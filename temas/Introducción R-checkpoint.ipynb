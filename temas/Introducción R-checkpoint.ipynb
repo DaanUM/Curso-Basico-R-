{
 "cells": [
  {
   "attachments": {
    "image.png": {
     "image/png": "[encoded data removed]"
    }
   },
   "cell_type": "markdown",
   "id": "4af402bf",
   "metadata": {},
   "source": [
    "# INTRODUCCIÓN\n",
    "\n",
    "## Operadores en R\n",
    "\n",
    "Hay varios operadores en R. Esto incluye operadores aritméticos para cálculos matemáticos, operadores lógicos, relacionales o de asignación o incluso el popular operador pipe. En este curso, mostraremos los operadores de R divididos según tipo, mediante ejemplos de uso de cada operador.\n",
    "\n",
    "### Operadores Aritméticos\n",
    "\n",
    "Los operadores aritméticos de R nos permiten realizar operaciones matemáticas, como sumas, divisiones o multiplicaciones, entre otras. La siguiente tabla resume todos los operadores aritméticos de R base.\n",
    "\n",
    "![image.png](attachment:image.png)\n",
    "\n",
    "Gracias a nuestra herramienta de desarrollo Jupyter, no es necesario que instales el programa, ya que podras realizar la compilación de los bloques de código presentes en el curso, solo con presionar Run en el bloque de código. En el siguiente bloque de código encontrarás ejemplos de operaciones aritméticas básicas con números enteros. "
   ]
  },
  {
   "cell_type": "code",
   "execution_count": 1,
   "id": "8a196d16",
   "metadata": {},
   "outputs": [
    {
     "data": {
      "text/html": [
       "6"
      ],
      "text/latex": [
       "6"
      ],
      "text/markdown": [
       "6"
      ],
      "text/plain": [
       "[1] 6"
      ]
     },
     "metadata": {},
     "output_type": "display_data"
    },
    {
     "data": {
      "text/html": [
       "13"
      ],
      "text/latex": [
       "13"
      ],
      "text/markdown": [
       "13"
      ],
      "text/plain": [
       "[1] 13"
      ]
     },
     "metadata": {},
     "output_type": "display_data"
    },
    {
     "data": {
      "text/html": [
       "48"
      ],
      "text/latex": [
       "48"
      ],
      "text/markdown": [
       "48"
      ],
      "text/plain": [
       "[1] 48"
      ]
     },
     "metadata": {},
     "output_type": "display_data"
    },
    {
     "data": {
      "text/html": [
       "0.333333333333333"
      ],
      "text/latex": [
       "0.333333333333333"
      ],
      "text/markdown": [
       "0.333333333333333"
      ],
      "text/plain": [
       "[1] 0.3333333"
      ]
     },
     "metadata": {},
     "output_type": "display_data"
    },
    {
     "data": {
      "text/html": [
       "256"
      ],
      "text/latex": [
       "256"
      ],
      "text/markdown": [
       "256"
      ],
      "text/plain": [
       "[1] 256"
      ]
     },
     "metadata": {},
     "output_type": "display_data"
    },
    {
     "data": {
      "text/html": [
       "256"
      ],
      "text/latex": [
       "256"
      ],
      "text/markdown": [
       "256"
      ],
      "text/plain": [
       "[1] 256"
      ]
     },
     "metadata": {},
     "output_type": "display_data"
    },
    {
     "data": {
      "text/html": [
       "1"
      ],
      "text/latex": [
       "1"
      ],
      "text/markdown": [
       "1"
      ],
      "text/plain": [
       "[1] 1"
      ]
     },
     "metadata": {},
     "output_type": "display_data"
    },
    {
     "data": {
      "text/html": [
       "1"
      ],
      "text/latex": [
       "1"
      ],
      "text/markdown": [
       "1"
      ],
      "text/plain": [
       "[1] 1"
      ]
     },
     "metadata": {},
     "output_type": "display_data"
    }
   ],
   "source": [
    "#----------------- OPERACIONES BÁSICAS ----------------\n",
    "\n",
    "2 + 4   # 6\n",
    "20 - 7  #13\n",
    "8 * 6   #48\n",
    "1/3     #0.333  \n",
    "2 ^ 8   #256\n",
    "4 ** 4  #256\n",
    "10 %% 3 #1\n",
    "5 %/% 3 #1\n"
   ]
  },
  {
   "cell_type": "markdown",
   "id": "fa53008e",
   "metadata": {},
   "source": [
    "También puedes usar los operadores aritméticos con **vectores de R de la misma longitud**. La salida de estas operaciones será un vector con el resultado de la operación elemento a elemento."
   ]
  },
  {
   "cell_type": "code",
   "execution_count": 2,
   "id": "8272ab63",
   "metadata": {},
   "outputs": [
    {
     "data": {
      "text/html": [
       "<ol class=list-inline>\n",
       "\t<li>10</li>\n",
       "\t<li>11</li>\n",
       "\t<li>8</li>\n",
       "</ol>\n"
      ],
      "text/latex": [
       "\\begin{enumerate*}\n",
       "\\item 10\n",
       "\\item 11\n",
       "\\item 8\n",
       "\\end{enumerate*}\n"
      ],
      "text/markdown": [
       "1. 10\n",
       "2. 11\n",
       "3. 8\n",
       "\n",
       "\n"
      ],
      "text/plain": [
       "[1] 10 11  8"
      ]
     },
     "metadata": {},
     "output_type": "display_data"
    },
    {
     "data": {
      "text/html": [
       "<ol class=list-inline>\n",
       "\t<li>-8</li>\n",
       "\t<li>3</li>\n",
       "\t<li>-2</li>\n",
       "</ol>\n"
      ],
      "text/latex": [
       "\\begin{enumerate*}\n",
       "\\item -8\n",
       "\\item 3\n",
       "\\item -2\n",
       "\\end{enumerate*}\n"
      ],
      "text/markdown": [
       "1. -8\n",
       "2. 3\n",
       "3. -2\n",
       "\n",
       "\n"
      ],
      "text/plain": [
       "[1] -8  3 -2"
      ]
     },
     "metadata": {},
     "output_type": "display_data"
    },
    {
     "data": {
      "text/html": [
       "<ol class=list-inline>\n",
       "\t<li>9</li>\n",
       "\t<li>28</li>\n",
       "\t<li>15</li>\n",
       "</ol>\n"
      ],
      "text/latex": [
       "\\begin{enumerate*}\n",
       "\\item 9\n",
       "\\item 28\n",
       "\\item 15\n",
       "\\end{enumerate*}\n"
      ],
      "text/markdown": [
       "1. 9\n",
       "2. 28\n",
       "3. 15\n",
       "\n",
       "\n"
      ],
      "text/plain": [
       "[1]  9 28 15"
      ]
     },
     "metadata": {},
     "output_type": "display_data"
    },
    {
     "data": {
      "text/html": [
       "<ol class=list-inline>\n",
       "\t<li>0.5</li>\n",
       "\t<li>3.5</li>\n",
       "\t<li>1.5</li>\n",
       "</ol>\n"
      ],
      "text/latex": [
       "\\begin{enumerate*}\n",
       "\\item 0.5\n",
       "\\item 3.5\n",
       "\\item 1.5\n",
       "\\end{enumerate*}\n"
      ],
      "text/markdown": [
       "1. 0.5\n",
       "2. 3.5\n",
       "3. 1.5\n",
       "\n",
       "\n"
      ],
      "text/plain": [
       "[1] 0.5 3.5 1.5"
      ]
     },
     "metadata": {},
     "output_type": "display_data"
    },
    {
     "data": {
      "text/html": [
       "<ol class=list-inline>\n",
       "\t<li>1</li>\n",
       "\t<li>2401</li>\n",
       "\t<li>243</li>\n",
       "</ol>\n"
      ],
      "text/latex": [
       "\\begin{enumerate*}\n",
       "\\item 1\n",
       "\\item 2401\n",
       "\\item 243\n",
       "\\end{enumerate*}\n"
      ],
      "text/markdown": [
       "1. 1\n",
       "2. 2401\n",
       "3. 243\n",
       "\n",
       "\n"
      ],
      "text/plain": [
       "[1]    1 2401  243"
      ]
     },
     "metadata": {},
     "output_type": "display_data"
    },
    {
     "data": {
      "text/html": [
       "<ol class=list-inline>\n",
       "\t<li>1</li>\n",
       "\t<li>2401</li>\n",
       "\t<li>243</li>\n",
       "</ol>\n"
      ],
      "text/latex": [
       "\\begin{enumerate*}\n",
       "\\item 1\n",
       "\\item 2401\n",
       "\\item 243\n",
       "\\end{enumerate*}\n"
      ],
      "text/markdown": [
       "1. 1\n",
       "2. 2401\n",
       "3. 243\n",
       "\n",
       "\n"
      ],
      "text/plain": [
       "[1]    1 2401  243"
      ]
     },
     "metadata": {},
     "output_type": "display_data"
    },
    {
     "data": {
      "text/html": [
       "<ol class=list-inline>\n",
       "\t<li>1</li>\n",
       "\t<li>3</li>\n",
       "\t<li>3</li>\n",
       "</ol>\n"
      ],
      "text/latex": [
       "\\begin{enumerate*}\n",
       "\\item 1\n",
       "\\item 3\n",
       "\\item 3\n",
       "\\end{enumerate*}\n"
      ],
      "text/markdown": [
       "1. 1\n",
       "2. 3\n",
       "3. 3\n",
       "\n",
       "\n"
      ],
      "text/plain": [
       "[1] 1 3 3"
      ]
     },
     "metadata": {},
     "output_type": "display_data"
    },
    {
     "data": {
      "text/html": [
       "<ol class=list-inline>\n",
       "\t<li>0</li>\n",
       "\t<li>1</li>\n",
       "\t<li>0</li>\n",
       "</ol>\n"
      ],
      "text/latex": [
       "\\begin{enumerate*}\n",
       "\\item 0\n",
       "\\item 1\n",
       "\\item 0\n",
       "\\end{enumerate*}\n"
      ],
      "text/markdown": [
       "1. 0\n",
       "2. 1\n",
       "3. 0\n",
       "\n",
       "\n"
      ],
      "text/plain": [
       "[1] 0 1 0"
      ]
     },
     "metadata": {},
     "output_type": "display_data"
    }
   ],
   "source": [
    "#--------------- VECTORES -----------------\n",
    "\n",
    "x <- c(1, 7, 3)\n",
    "y <- c(9, 4, 5)\n",
    "\n",
    "x + y   # 10 11  8\n",
    "x - y   # -8  3 -2\n",
    "x * y   #  9 28 15\n",
    "x / 2   #  0.5 3.5 1.5\n",
    "\n",
    "\n",
    "# Cada elemento del primer vector elevado\n",
    "# al elemento correspondiente del segundo\n",
    "\n",
    "x ** y  # 1 2401  243 \n",
    "x ^ y   # 1 2401  243\n",
    "\n",
    "x %% y  # 1 3 3\n",
    "x %/% y # 0 1 0"
   ]
  },
  {
   "cell_type": "markdown",
   "id": "d4d04e03",
   "metadata": {},
   "source": [
    "Asimismo, puedes usar los operadores aritméticos con matrices, además de los diseñados para este tipo de objeto (multiplicaciones matriciales). "
   ]
  },
  {
   "cell_type": "code",
   "execution_count": 3,
   "id": "a32dd96c",
   "metadata": {},
   "outputs": [
    {
     "data": {
      "text/html": [
       "<table>\n",
       "<tbody>\n",
       "\t<tr><td>1</td><td>3</td><td>5</td></tr>\n",
       "\t<tr><td>2</td><td>4</td><td>6</td></tr>\n",
       "</tbody>\n",
       "</table>\n"
      ],
      "text/latex": [
       "\\begin{tabular}{lll}\n",
       "\t 1 & 3 & 5\\\\\n",
       "\t 2 & 4 & 6\\\\\n",
       "\\end{tabular}\n"
      ],
      "text/markdown": [
       "\n",
       "| 1 | 3 | 5 |\n",
       "| 2 | 4 | 6 |\n",
       "\n"
      ],
      "text/plain": [
       "     [,1] [,2] [,3]\n",
       "[1,] 1    3    5   \n",
       "[2,] 2    4    6   "
      ]
     },
     "metadata": {},
     "output_type": "display_data"
    },
    {
     "data": {
      "text/html": [
       "<table>\n",
       "<tbody>\n",
       "\t<tr><td>8 </td><td>10</td><td>12</td></tr>\n",
       "\t<tr><td>9 </td><td>11</td><td>13</td></tr>\n",
       "</tbody>\n",
       "</table>\n"
      ],
      "text/latex": [
       "\\begin{tabular}{lll}\n",
       "\t 8  & 10 & 12\\\\\n",
       "\t 9  & 11 & 13\\\\\n",
       "\\end{tabular}\n"
      ],
      "text/markdown": [
       "\n",
       "| 8  | 10 | 12 |\n",
       "| 9  | 11 | 13 |\n",
       "\n"
      ],
      "text/plain": [
       "     [,1] [,2] [,3]\n",
       "[1,] 8    10   12  \n",
       "[2,] 9    11   13  "
      ]
     },
     "metadata": {},
     "output_type": "display_data"
    },
    {
     "data": {
      "text/html": [
       "<table>\n",
       "<tbody>\n",
       "\t<tr><td> 9</td><td>13</td><td>17</td></tr>\n",
       "\t<tr><td>11</td><td>15</td><td>19</td></tr>\n",
       "</tbody>\n",
       "</table>\n"
      ],
      "text/latex": [
       "\\begin{tabular}{lll}\n",
       "\t  9 & 13 & 17\\\\\n",
       "\t 11 & 15 & 19\\\\\n",
       "\\end{tabular}\n"
      ],
      "text/markdown": [
       "\n",
       "|  9 | 13 | 17 |\n",
       "| 11 | 15 | 19 |\n",
       "\n"
      ],
      "text/plain": [
       "     [,1] [,2] [,3]\n",
       "[1,]  9   13   17  \n",
       "[2,] 11   15   19  "
      ]
     },
     "metadata": {},
     "output_type": "display_data"
    },
    {
     "data": {
      "text/html": [
       "<table>\n",
       "<tbody>\n",
       "\t<tr><td> 8</td><td>30</td><td>60</td></tr>\n",
       "\t<tr><td>18</td><td>44</td><td>78</td></tr>\n",
       "</tbody>\n",
       "</table>\n"
      ],
      "text/latex": [
       "\\begin{tabular}{lll}\n",
       "\t  8 & 30 & 60\\\\\n",
       "\t 18 & 44 & 78\\\\\n",
       "\\end{tabular}\n"
      ],
      "text/markdown": [
       "\n",
       "|  8 | 30 | 60 |\n",
       "| 18 | 44 | 78 |\n",
       "\n"
      ],
      "text/plain": [
       "     [,1] [,2] [,3]\n",
       "[1,]  8   30   60  \n",
       "[2,] 18   44   78  "
      ]
     },
     "metadata": {},
     "output_type": "display_data"
    },
    {
     "data": {
      "text/html": [
       "<table>\n",
       "<tbody>\n",
       "\t<tr><td>64 </td><td>154</td></tr>\n",
       "\t<tr><td>70 </td><td>169</td></tr>\n",
       "</tbody>\n",
       "</table>\n"
      ],
      "text/latex": [
       "\\begin{tabular}{ll}\n",
       "\t 64  & 154\\\\\n",
       "\t 70  & 169\\\\\n",
       "\\end{tabular}\n"
      ],
      "text/markdown": [
       "\n",
       "| 64  | 154 |\n",
       "| 70  | 169 |\n",
       "\n"
      ],
      "text/plain": [
       "     [,1] [,2]\n",
       "[1,] 64   154 \n",
       "[2,] 70   169 "
      ]
     },
     "metadata": {},
     "output_type": "display_data"
    },
    {
     "data": {
      "text/html": [
       "<ol class=list-inline>\n",
       "\t<li>8</li>\n",
       "\t<li>9</li>\n",
       "\t<li>10</li>\n",
       "\t<li>11</li>\n",
       "\t<li>12</li>\n",
       "\t<li>13</li>\n",
       "\t<li>16</li>\n",
       "\t<li>18</li>\n",
       "\t<li>20</li>\n",
       "\t<li>22</li>\n",
       "\t<li>24</li>\n",
       "\t<li>26</li>\n",
       "\t<li>24</li>\n",
       "\t<li>27</li>\n",
       "\t<li>30</li>\n",
       "\t<li>33</li>\n",
       "\t<li>36</li>\n",
       "\t<li>39</li>\n",
       "\t<li>32</li>\n",
       "\t<li>36</li>\n",
       "\t<li>40</li>\n",
       "\t<li>44</li>\n",
       "\t<li>48</li>\n",
       "\t<li>52</li>\n",
       "\t<li>40</li>\n",
       "\t<li>45</li>\n",
       "\t<li>50</li>\n",
       "\t<li>55</li>\n",
       "\t<li>60</li>\n",
       "\t<li>65</li>\n",
       "\t<li>48</li>\n",
       "\t<li>54</li>\n",
       "\t<li>60</li>\n",
       "\t<li>66</li>\n",
       "\t<li>72</li>\n",
       "\t<li>78</li>\n",
       "</ol>\n"
      ],
      "text/latex": [
       "\\begin{enumerate*}\n",
       "\\item 8\n",
       "\\item 9\n",
       "\\item 10\n",
       "\\item 11\n",
       "\\item 12\n",
       "\\item 13\n",
       "\\item 16\n",
       "\\item 18\n",
       "\\item 20\n",
       "\\item 22\n",
       "\\item 24\n",
       "\\item 26\n",
       "\\item 24\n",
       "\\item 27\n",
       "\\item 30\n",
       "\\item 33\n",
       "\\item 36\n",
       "\\item 39\n",
       "\\item 32\n",
       "\\item 36\n",
       "\\item 40\n",
       "\\item 44\n",
       "\\item 48\n",
       "\\item 52\n",
       "\\item 40\n",
       "\\item 45\n",
       "\\item 50\n",
       "\\item 55\n",
       "\\item 60\n",
       "\\item 65\n",
       "\\item 48\n",
       "\\item 54\n",
       "\\item 60\n",
       "\\item 66\n",
       "\\item 72\n",
       "\\item 78\n",
       "\\end{enumerate*}\n"
      ],
      "text/markdown": [
       "1. 8\n",
       "2. 9\n",
       "3. 10\n",
       "4. 11\n",
       "5. 12\n",
       "6. 13\n",
       "7. 16\n",
       "8. 18\n",
       "9. 20\n",
       "10. 22\n",
       "11. 24\n",
       "12. 26\n",
       "13. 24\n",
       "14. 27\n",
       "15. 30\n",
       "16. 33\n",
       "17. 36\n",
       "18. 39\n",
       "19. 32\n",
       "20. 36\n",
       "21. 40\n",
       "22. 44\n",
       "23. 48\n",
       "24. 52\n",
       "25. 40\n",
       "26. 45\n",
       "27. 50\n",
       "28. 55\n",
       "29. 60\n",
       "30. 65\n",
       "31. 48\n",
       "32. 54\n",
       "33. 60\n",
       "34. 66\n",
       "35. 72\n",
       "36. 78\n",
       "\n",
       "\n"
      ],
      "text/plain": [
       ", , 1, 1\n",
       "\n",
       "     [,1] [,2] [,3]\n",
       "[1,]    8   10   12\n",
       "[2,]    9   11   13\n",
       "\n",
       ", , 2, 1\n",
       "\n",
       "     [,1] [,2] [,3]\n",
       "[1,]   16   20   24\n",
       "[2,]   18   22   26\n",
       "\n",
       ", , 3, 1\n",
       "\n",
       "     [,1] [,2] [,3]\n",
       "[1,]   24   30   36\n",
       "[2,]   27   33   39\n",
       "\n",
       ", , 1, 2\n",
       "\n",
       "     [,1] [,2] [,3]\n",
       "[1,]   32   40   48\n",
       "[2,]   36   44   52\n",
       "\n",
       ", , 2, 2\n",
       "\n",
       "     [,1] [,2] [,3]\n",
       "[1,]   40   50   60\n",
       "[2,]   45   55   65\n",
       "\n",
       ", , 3, 2\n",
       "\n",
       "     [,1] [,2] [,3]\n",
       "[1,]   48   60   72\n",
       "[2,]   54   66   78\n"
      ]
     },
     "metadata": {},
     "output_type": "display_data"
    },
    {
     "data": {
      "text/html": [
       "<table>\n",
       "<tbody>\n",
       "\t<tr><td> 8</td><td>32</td><td>10</td><td>40</td><td>12</td><td>48</td></tr>\n",
       "\t<tr><td>16</td><td>40</td><td>20</td><td>50</td><td>24</td><td>60</td></tr>\n",
       "\t<tr><td>24</td><td>48</td><td>30</td><td>60</td><td>36</td><td>72</td></tr>\n",
       "\t<tr><td> 9</td><td>36</td><td>11</td><td>44</td><td>13</td><td>52</td></tr>\n",
       "\t<tr><td>18</td><td>45</td><td>22</td><td>55</td><td>26</td><td>65</td></tr>\n",
       "\t<tr><td>27</td><td>54</td><td>33</td><td>66</td><td>39</td><td>78</td></tr>\n",
       "</tbody>\n",
       "</table>\n"
      ],
      "text/latex": [
       "\\begin{tabular}{llllll}\n",
       "\t  8 & 32 & 10 & 40 & 12 & 48\\\\\n",
       "\t 16 & 40 & 20 & 50 & 24 & 60\\\\\n",
       "\t 24 & 48 & 30 & 60 & 36 & 72\\\\\n",
       "\t  9 & 36 & 11 & 44 & 13 & 52\\\\\n",
       "\t 18 & 45 & 22 & 55 & 26 & 65\\\\\n",
       "\t 27 & 54 & 33 & 66 & 39 & 78\\\\\n",
       "\\end{tabular}\n"
      ],
      "text/markdown": [
       "\n",
       "|  8 | 32 | 10 | 40 | 12 | 48 |\n",
       "| 16 | 40 | 20 | 50 | 24 | 60 |\n",
       "| 24 | 48 | 30 | 60 | 36 | 72 |\n",
       "|  9 | 36 | 11 | 44 | 13 | 52 |\n",
       "| 18 | 45 | 22 | 55 | 26 | 65 |\n",
       "| 27 | 54 | 33 | 66 | 39 | 78 |\n",
       "\n"
      ],
      "text/plain": [
       "     [,1] [,2] [,3] [,4] [,5] [,6]\n",
       "[1,]  8   32   10   40   12   48  \n",
       "[2,] 16   40   20   50   24   60  \n",
       "[3,] 24   48   30   60   36   72  \n",
       "[4,]  9   36   11   44   13   52  \n",
       "[5,] 18   45   22   55   26   65  \n",
       "[6,] 27   54   33   66   39   78  "
      ]
     },
     "metadata": {},
     "output_type": "display_data"
    }
   ],
   "source": [
    "#------------ MATRICES -----------\n",
    "\n",
    "\n",
    "s <- matrix(1:6, nrow = 2, ncol = 3)\n",
    "t <- matrix(8:13, nrow = 2, ncol = 3)\n",
    "\n",
    "s\n",
    "#      [, 1] [, 2] [, 3]\n",
    "# [1, ]   1     3     5\n",
    "# [2, ]   2     4     6\n",
    "\n",
    "t\n",
    "#      [, 1] [, 2] [, 3]\n",
    "# [1, ]   8    10    12\n",
    "# [2, ]   9    11    13\n",
    "\n",
    "\n",
    "# Suma de matrices elemento a elemento\n",
    "\n",
    "s + t\n",
    "\n",
    "#      [, 1] [, 2] [, 3]\n",
    "# [1, ]   9    13    17\n",
    "# [2, ]  11    15    19\n",
    "\n",
    "\n",
    "# Multiplicación de matrices elemento a elemento\n",
    "s * t\n",
    "\n",
    "#       [, 1] [, 2] [, 3]\n",
    "# [1, ]    8   30   60\n",
    "# [2, ]   18   44   78\n",
    "\n",
    "# Ten en cuenta que se necesitan las dimensiones\n",
    "# correctas para la multiplicación de matrices\n",
    "w <- matrix(8:13, nrow = 2, ncol = 3)\n",
    "z <- matrix(1:6, nrow = 3, ncol = 2)\n",
    "\n",
    "w %*% z\n",
    "\n",
    "#       [, 1] [, 2]\n",
    "# [1, ]   64   154\n",
    "# [2, ]   70   169\n",
    "\n",
    "# Producto exterior\n",
    "w %o% z # (Salida omitida)\n",
    "\n",
    "# Producto Kronecker\n",
    "w %x% z\n",
    "\n",
    "#        [, 1] [, 2] [, 3] [, 4] [, 5] [, 6]\n",
    "# [1, ]     8    32    10    40    12    48\n",
    "# [2, ]    16    40    20    50    24    60\n",
    "# [3, ]    24    48    30    60    36    72\n",
    "# [4, ]     9    36    11    44    13    52\n",
    "# [5, ]    18    45    22    55    26    65\n",
    "# [6, ]    27    54    33    66    39    78"
   ]
  },
  {
   "attachments": {
    "image.png": {
     "image/png": "[encoded data removed]"
    }
   },
   "cell_type": "markdown",
   "id": "b5d2145b",
   "metadata": {},
   "source": [
    "# Operadores Lógicos\n",
    "\n",
    "Los operadores booleanos o lógicos en R se utilizan para especificar múltiples condiciones entre objetos. Estas comparaciones devuelven valores **TRUE** o **FALSE**.\n",
    "\n",
    "![image.png](attachment:image.png)\n"
   ]
  },
  {
   "cell_type": "code",
   "execution_count": 4,
   "id": "48922bdd",
   "metadata": {},
   "outputs": [
    {
     "data": {
      "text/html": [
       "FALSE"
      ],
      "text/latex": [
       "FALSE"
      ],
      "text/markdown": [
       "FALSE"
      ],
      "text/plain": [
       "[1] FALSE"
      ]
     },
     "metadata": {},
     "output_type": "display_data"
    },
    {
     "data": {
      "text/html": [
       "TRUE"
      ],
      "text/latex": [
       "TRUE"
      ],
      "text/markdown": [
       "TRUE"
      ],
      "text/plain": [
       "[1] TRUE"
      ]
     },
     "metadata": {},
     "output_type": "display_data"
    },
    {
     "data": {
      "text/html": [
       "FALSE"
      ],
      "text/latex": [
       "FALSE"
      ],
      "text/markdown": [
       "FALSE"
      ],
      "text/plain": [
       "[1] FALSE"
      ]
     },
     "metadata": {},
     "output_type": "display_data"
    },
    {
     "data": {
      "text/html": [
       "TRUE"
      ],
      "text/latex": [
       "TRUE"
      ],
      "text/markdown": [
       "TRUE"
      ],
      "text/plain": [
       "[1] TRUE"
      ]
     },
     "metadata": {},
     "output_type": "display_data"
    },
    {
     "data": {
      "text/html": [
       "<ol class=list-inline>\n",
       "\t<li>TRUE</li>\n",
       "\t<li>TRUE</li>\n",
       "\t<li>TRUE</li>\n",
       "</ol>\n"
      ],
      "text/latex": [
       "\\begin{enumerate*}\n",
       "\\item TRUE\n",
       "\\item TRUE\n",
       "\\item TRUE\n",
       "\\end{enumerate*}\n"
      ],
      "text/markdown": [
       "1. TRUE\n",
       "2. TRUE\n",
       "3. TRUE\n",
       "\n",
       "\n"
      ],
      "text/plain": [
       "[1] TRUE TRUE TRUE"
      ]
     },
     "metadata": {},
     "output_type": "display_data"
    },
    {
     "data": {
      "text/html": [
       "TRUE"
      ],
      "text/latex": [
       "TRUE"
      ],
      "text/markdown": [
       "TRUE"
      ],
      "text/plain": [
       "[1] TRUE"
      ]
     },
     "metadata": {},
     "output_type": "display_data"
    },
    {
     "data": {
      "text/html": [
       "<ol class=list-inline>\n",
       "\t<li>TRUE</li>\n",
       "\t<li>TRUE</li>\n",
       "\t<li>TRUE</li>\n",
       "</ol>\n"
      ],
      "text/latex": [
       "\\begin{enumerate*}\n",
       "\\item TRUE\n",
       "\\item TRUE\n",
       "\\item TRUE\n",
       "\\end{enumerate*}\n"
      ],
      "text/markdown": [
       "1. TRUE\n",
       "2. TRUE\n",
       "3. TRUE\n",
       "\n",
       "\n"
      ],
      "text/plain": [
       "[1] TRUE TRUE TRUE"
      ]
     },
     "metadata": {},
     "output_type": "display_data"
    },
    {
     "data": {
      "text/html": [
       "TRUE"
      ],
      "text/latex": [
       "TRUE"
      ],
      "text/markdown": [
       "TRUE"
      ],
      "text/plain": [
       "[1] TRUE"
      ]
     },
     "metadata": {},
     "output_type": "display_data"
    },
    {
     "data": {
      "text/html": [
       "<ol class=list-inline>\n",
       "\t<li>FALSE</li>\n",
       "\t<li>FALSE</li>\n",
       "\t<li>FALSE</li>\n",
       "</ol>\n"
      ],
      "text/latex": [
       "\\begin{enumerate*}\n",
       "\\item FALSE\n",
       "\\item FALSE\n",
       "\\item FALSE\n",
       "\\end{enumerate*}\n"
      ],
      "text/markdown": [
       "1. FALSE\n",
       "2. FALSE\n",
       "3. FALSE\n",
       "\n",
       "\n"
      ],
      "text/plain": [
       "[1] FALSE FALSE FALSE"
      ]
     },
     "metadata": {},
     "output_type": "display_data"
    },
    {
     "data": {
      "text/html": [
       "<ol class=list-inline>\n",
       "\t<li>FALSE</li>\n",
       "\t<li>FALSE</li>\n",
       "\t<li>FALSE</li>\n",
       "</ol>\n"
      ],
      "text/latex": [
       "\\begin{enumerate*}\n",
       "\\item FALSE\n",
       "\\item FALSE\n",
       "\\item FALSE\n",
       "\\end{enumerate*}\n"
      ],
      "text/markdown": [
       "1. FALSE\n",
       "2. FALSE\n",
       "3. FALSE\n",
       "\n",
       "\n"
      ],
      "text/plain": [
       "[1] FALSE FALSE FALSE"
      ]
     },
     "metadata": {},
     "output_type": "display_data"
    }
   ],
   "source": [
    "40 & 5 > 30 # FALSE\n",
    "40 | 5 > 30 # TRUE\n",
    "!TRUE  # FALSE\n",
    "!FALSE # TRUE\n",
    "\n",
    "#--------- VECTORES ----- \n",
    "\n",
    "\n",
    "x <- c(3, 4, 5)\n",
    "y <- c(3, 5, 1)\n",
    "\n",
    "x & y   # TRUE TRUE TRUE\n",
    "x && y  # TRUE\n",
    "\n",
    "x | y   # TRUE TRUE TRUE\n",
    "x || y  # TRUE\n",
    "\n",
    "!x # FALSE FALSE FALSE\n",
    "\n",
    "xor(x, y) # FALSE FALSE FALSE"
   ]
  },
  {
   "attachments": {
    "image.png": {
     "image/png": "[encoded data removed]"
    }
   },
   "cell_type": "markdown",
   "id": "01dd1f20",
   "metadata": {},
   "source": [
    "# Operadores Relacionales\n",
    "\n",
    "Los operadores de comparación o relacionales están diseñados para comparar objetos. El resultado de estas comparaciones son de tipo booleano. La siguiente tabla resume los operadores relacionales de R.\n",
    "\n",
    "![image.png](attachment:image.png)\n",
    "\n",
    "Puedes comparar valores enteros con estos operadores de la siguiente manera."
   ]
  },
  {
   "cell_type": "code",
   "execution_count": 5,
   "id": "9d50ee7f",
   "metadata": {},
   "outputs": [
    {
     "data": {
      "text/html": [
       "FALSE"
      ],
      "text/latex": [
       "FALSE"
      ],
      "text/markdown": [
       "FALSE"
      ],
      "text/plain": [
       "[1] FALSE"
      ]
     },
     "metadata": {},
     "output_type": "display_data"
    },
    {
     "data": {
      "text/html": [
       "TRUE"
      ],
      "text/latex": [
       "TRUE"
      ],
      "text/markdown": [
       "TRUE"
      ],
      "text/plain": [
       "[1] TRUE"
      ]
     },
     "metadata": {},
     "output_type": "display_data"
    },
    {
     "data": {
      "text/html": [
       "FALSE"
      ],
      "text/latex": [
       "FALSE"
      ],
      "text/markdown": [
       "FALSE"
      ],
      "text/plain": [
       "[1] FALSE"
      ]
     },
     "metadata": {},
     "output_type": "display_data"
    },
    {
     "data": {
      "text/html": [
       "TRUE"
      ],
      "text/latex": [
       "TRUE"
      ],
      "text/markdown": [
       "TRUE"
      ],
      "text/plain": [
       "[1] TRUE"
      ]
     },
     "metadata": {},
     "output_type": "display_data"
    },
    {
     "data": {
      "text/html": [
       "FALSE"
      ],
      "text/latex": [
       "FALSE"
      ],
      "text/markdown": [
       "FALSE"
      ],
      "text/plain": [
       "[1] FALSE"
      ]
     },
     "metadata": {},
     "output_type": "display_data"
    },
    {
     "data": {
      "text/html": [
       "<ol class=list-inline>\n",
       "\t<li>TRUE</li>\n",
       "\t<li>TRUE</li>\n",
       "\t<li>FALSE</li>\n",
       "</ol>\n"
      ],
      "text/latex": [
       "\\begin{enumerate*}\n",
       "\\item TRUE\n",
       "\\item TRUE\n",
       "\\item FALSE\n",
       "\\end{enumerate*}\n"
      ],
      "text/markdown": [
       "1. TRUE\n",
       "2. TRUE\n",
       "3. FALSE\n",
       "\n",
       "\n"
      ],
      "text/plain": [
       "[1]  TRUE  TRUE FALSE"
      ]
     },
     "metadata": {},
     "output_type": "display_data"
    },
    {
     "data": {
      "text/html": [
       "<ol class=list-inline>\n",
       "\t<li>FALSE</li>\n",
       "\t<li>TRUE</li>\n",
       "\t<li>TRUE</li>\n",
       "</ol>\n"
      ],
      "text/latex": [
       "\\begin{enumerate*}\n",
       "\\item FALSE\n",
       "\\item TRUE\n",
       "\\item TRUE\n",
       "\\end{enumerate*}\n"
      ],
      "text/markdown": [
       "1. FALSE\n",
       "2. TRUE\n",
       "3. TRUE\n",
       "\n",
       "\n"
      ],
      "text/plain": [
       "[1] FALSE  TRUE  TRUE"
      ]
     },
     "metadata": {},
     "output_type": "display_data"
    },
    {
     "data": {
      "text/html": [
       "<ol class=list-inline>\n",
       "\t<li>FALSE</li>\n",
       "\t<li>TRUE</li>\n",
       "\t<li>FALSE</li>\n",
       "</ol>\n"
      ],
      "text/latex": [
       "\\begin{enumerate*}\n",
       "\\item FALSE\n",
       "\\item TRUE\n",
       "\\item FALSE\n",
       "\\end{enumerate*}\n"
      ],
      "text/markdown": [
       "1. FALSE\n",
       "2. TRUE\n",
       "3. FALSE\n",
       "\n",
       "\n"
      ],
      "text/plain": [
       "[1] FALSE  TRUE FALSE"
      ]
     },
     "metadata": {},
     "output_type": "display_data"
    },
    {
     "data": {
      "text/html": [
       "<ol class=list-inline>\n",
       "\t<li>TRUE</li>\n",
       "\t<li>FALSE</li>\n",
       "\t<li>TRUE</li>\n",
       "</ol>\n"
      ],
      "text/latex": [
       "\\begin{enumerate*}\n",
       "\\item TRUE\n",
       "\\item FALSE\n",
       "\\item TRUE\n",
       "\\end{enumerate*}\n"
      ],
      "text/markdown": [
       "1. TRUE\n",
       "2. FALSE\n",
       "3. TRUE\n",
       "\n",
       "\n"
      ],
      "text/plain": [
       "[1]  TRUE FALSE  TRUE"
      ]
     },
     "metadata": {},
     "output_type": "display_data"
    },
    {
     "data": {
      "text/html": [
       "<table>\n",
       "<tbody>\n",
       "\t<tr><td>FALSE</td><td>FALSE</td><td>FALSE</td></tr>\n",
       "\t<tr><td>FALSE</td><td>FALSE</td><td>FALSE</td></tr>\n",
       "</tbody>\n",
       "</table>\n"
      ],
      "text/latex": [
       "\\begin{tabular}{lll}\n",
       "\t FALSE & FALSE & FALSE\\\\\n",
       "\t FALSE & FALSE & FALSE\\\\\n",
       "\\end{tabular}\n"
      ],
      "text/markdown": [
       "\n",
       "| FALSE | FALSE | FALSE |\n",
       "| FALSE | FALSE | FALSE |\n",
       "\n"
      ],
      "text/plain": [
       "     [,1]  [,2]  [,3] \n",
       "[1,] FALSE FALSE FALSE\n",
       "[2,] FALSE FALSE FALSE"
      ]
     },
     "metadata": {},
     "output_type": "display_data"
    },
    {
     "data": {
      "text/html": [
       "<table>\n",
       "<tbody>\n",
       "\t<tr><td>TRUE</td><td>TRUE</td><td>TRUE</td></tr>\n",
       "\t<tr><td>TRUE</td><td>TRUE</td><td>TRUE</td></tr>\n",
       "</tbody>\n",
       "</table>\n"
      ],
      "text/latex": [
       "\\begin{tabular}{lll}\n",
       "\t TRUE & TRUE & TRUE\\\\\n",
       "\t TRUE & TRUE & TRUE\\\\\n",
       "\\end{tabular}\n"
      ],
      "text/markdown": [
       "\n",
       "| TRUE | TRUE | TRUE |\n",
       "| TRUE | TRUE | TRUE |\n",
       "\n"
      ],
      "text/plain": [
       "     [,1] [,2] [,3]\n",
       "[1,] TRUE TRUE TRUE\n",
       "[2,] TRUE TRUE TRUE"
      ]
     },
     "metadata": {},
     "output_type": "display_data"
    },
    {
     "data": {
      "text/html": [
       "<table>\n",
       "<tbody>\n",
       "\t<tr><td>FALSE</td><td>FALSE</td><td>FALSE</td></tr>\n",
       "\t<tr><td>FALSE</td><td>FALSE</td><td>FALSE</td></tr>\n",
       "</tbody>\n",
       "</table>\n"
      ],
      "text/latex": [
       "\\begin{tabular}{lll}\n",
       "\t FALSE & FALSE & FALSE\\\\\n",
       "\t FALSE & FALSE & FALSE\\\\\n",
       "\\end{tabular}\n"
      ],
      "text/markdown": [
       "\n",
       "| FALSE | FALSE | FALSE |\n",
       "| FALSE | FALSE | FALSE |\n",
       "\n"
      ],
      "text/plain": [
       "     [,1]  [,2]  [,3] \n",
       "[1,] FALSE FALSE FALSE\n",
       "[2,] FALSE FALSE FALSE"
      ]
     },
     "metadata": {},
     "output_type": "display_data"
    },
    {
     "data": {
      "text/html": [
       "<table>\n",
       "<tbody>\n",
       "\t<tr><td>TRUE</td><td>TRUE</td><td>TRUE</td></tr>\n",
       "\t<tr><td>TRUE</td><td>TRUE</td><td>TRUE</td></tr>\n",
       "</tbody>\n",
       "</table>\n"
      ],
      "text/latex": [
       "\\begin{tabular}{lll}\n",
       "\t TRUE & TRUE & TRUE\\\\\n",
       "\t TRUE & TRUE & TRUE\\\\\n",
       "\\end{tabular}\n"
      ],
      "text/markdown": [
       "\n",
       "| TRUE | TRUE | TRUE |\n",
       "| TRUE | TRUE | TRUE |\n",
       "\n"
      ],
      "text/plain": [
       "     [,1] [,2] [,3]\n",
       "[1,] TRUE TRUE TRUE\n",
       "[2,] TRUE TRUE TRUE"
      ]
     },
     "metadata": {},
     "output_type": "display_data"
    },
    {
     "data": {
      "text/html": [
       "<table>\n",
       "<tbody>\n",
       "\t<tr><td>FALSE</td><td>FALSE</td><td>FALSE</td></tr>\n",
       "\t<tr><td>FALSE</td><td>FALSE</td><td>FALSE</td></tr>\n",
       "</tbody>\n",
       "</table>\n"
      ],
      "text/latex": [
       "\\begin{tabular}{lll}\n",
       "\t FALSE & FALSE & FALSE\\\\\n",
       "\t FALSE & FALSE & FALSE\\\\\n",
       "\\end{tabular}\n"
      ],
      "text/markdown": [
       "\n",
       "| FALSE | FALSE | FALSE |\n",
       "| FALSE | FALSE | FALSE |\n",
       "\n"
      ],
      "text/plain": [
       "     [,1]  [,2]  [,3] \n",
       "[1,] FALSE FALSE FALSE\n",
       "[2,] FALSE FALSE FALSE"
      ]
     },
     "metadata": {},
     "output_type": "display_data"
    },
    {
     "data": {
      "text/html": [
       "TRUE"
      ],
      "text/latex": [
       "TRUE"
      ],
      "text/markdown": [
       "TRUE"
      ],
      "text/plain": [
       "[1] TRUE"
      ]
     },
     "metadata": {},
     "output_type": "display_data"
    }
   ],
   "source": [
    "#-------------------- OPERACIONES BÁSICAS-----------\n",
    "\n",
    "3 > 5  # TRUE\n",
    "3 < 5  # FALSE\n",
    "3 >= 5 # FALSE\n",
    "3 <= 5 # TRUE\n",
    "3 == 5 # FALSE#---------\n",
    "# Vectores\n",
    "#---------\n",
    "\n",
    "x <- c(12, 4 , 14)\n",
    "y <- c(3, 4, 15)\n",
    "\n",
    "x >= y # TRUE TRUE FALSE\n",
    "x <= y # FALSE TRUE TRUE\n",
    "x == y # FALSE TRUE FALSE\n",
    "x != y # TRUE FALSE  TRUE\n",
    "\n",
    "#---------\n",
    "# Matrices\n",
    "#---------\n",
    "\n",
    "# Ten en cuenta que la matriz debe tener la misma dimensión\n",
    "# La comparación es elemento por elemento\n",
    "\n",
    "s <- matrix(1:6, nrow = 2, ncol = 3)\n",
    "t <- matrix(8:13, nrow = 2, ncol = 3)\n",
    "\n",
    "\n",
    "s > t\n",
    "\n",
    "#        [, 1]  [, 2]  [, 3]\n",
    "# [1, ]  FALSE  FALSE  FALSE\n",
    "# [2, ]  FALSE  FALSE  FALSE\n",
    "\n",
    "s < t\n",
    "s >= t\n",
    "s <= t\n",
    "s == t\n",
    "3 != 5 # TRUE"
   ]
  },
  {
   "cell_type": "markdown",
   "id": "19f465a7",
   "metadata": {},
   "source": [
    "Si comparas vectores, la salida será otro vector de la misma longitud y cada elemento contendrá el valor booleano correspondiente a la comparación de los elementos correspondientes (primer elemento del primer vector con el primer elemento del segundo vector, etc.). También puedes comparar cada elemento de una matriz con cada elemento de otra."
   ]
  },
  {
   "cell_type": "code",
   "execution_count": 6,
   "id": "73e1b0de",
   "metadata": {},
   "outputs": [
    {
     "data": {
      "text/html": [
       "<ol class=list-inline>\n",
       "\t<li>TRUE</li>\n",
       "\t<li>TRUE</li>\n",
       "\t<li>FALSE</li>\n",
       "</ol>\n"
      ],
      "text/latex": [
       "\\begin{enumerate*}\n",
       "\\item TRUE\n",
       "\\item TRUE\n",
       "\\item FALSE\n",
       "\\end{enumerate*}\n"
      ],
      "text/markdown": [
       "1. TRUE\n",
       "2. TRUE\n",
       "3. FALSE\n",
       "\n",
       "\n"
      ],
      "text/plain": [
       "[1]  TRUE  TRUE FALSE"
      ]
     },
     "metadata": {},
     "output_type": "display_data"
    },
    {
     "data": {
      "text/html": [
       "<ol class=list-inline>\n",
       "\t<li>FALSE</li>\n",
       "\t<li>TRUE</li>\n",
       "\t<li>TRUE</li>\n",
       "</ol>\n"
      ],
      "text/latex": [
       "\\begin{enumerate*}\n",
       "\\item FALSE\n",
       "\\item TRUE\n",
       "\\item TRUE\n",
       "\\end{enumerate*}\n"
      ],
      "text/markdown": [
       "1. FALSE\n",
       "2. TRUE\n",
       "3. TRUE\n",
       "\n",
       "\n"
      ],
      "text/plain": [
       "[1] FALSE  TRUE  TRUE"
      ]
     },
     "metadata": {},
     "output_type": "display_data"
    },
    {
     "data": {
      "text/html": [
       "<ol class=list-inline>\n",
       "\t<li>FALSE</li>\n",
       "\t<li>TRUE</li>\n",
       "\t<li>FALSE</li>\n",
       "</ol>\n"
      ],
      "text/latex": [
       "\\begin{enumerate*}\n",
       "\\item FALSE\n",
       "\\item TRUE\n",
       "\\item FALSE\n",
       "\\end{enumerate*}\n"
      ],
      "text/markdown": [
       "1. FALSE\n",
       "2. TRUE\n",
       "3. FALSE\n",
       "\n",
       "\n"
      ],
      "text/plain": [
       "[1] FALSE  TRUE FALSE"
      ]
     },
     "metadata": {},
     "output_type": "display_data"
    },
    {
     "data": {
      "text/html": [
       "<ol class=list-inline>\n",
       "\t<li>TRUE</li>\n",
       "\t<li>FALSE</li>\n",
       "\t<li>TRUE</li>\n",
       "</ol>\n"
      ],
      "text/latex": [
       "\\begin{enumerate*}\n",
       "\\item TRUE\n",
       "\\item FALSE\n",
       "\\item TRUE\n",
       "\\end{enumerate*}\n"
      ],
      "text/markdown": [
       "1. TRUE\n",
       "2. FALSE\n",
       "3. TRUE\n",
       "\n",
       "\n"
      ],
      "text/plain": [
       "[1]  TRUE FALSE  TRUE"
      ]
     },
     "metadata": {},
     "output_type": "display_data"
    },
    {
     "data": {
      "text/html": [
       "<table>\n",
       "<tbody>\n",
       "\t<tr><td>FALSE</td><td>FALSE</td><td>FALSE</td></tr>\n",
       "\t<tr><td>FALSE</td><td>FALSE</td><td>FALSE</td></tr>\n",
       "</tbody>\n",
       "</table>\n"
      ],
      "text/latex": [
       "\\begin{tabular}{lll}\n",
       "\t FALSE & FALSE & FALSE\\\\\n",
       "\t FALSE & FALSE & FALSE\\\\\n",
       "\\end{tabular}\n"
      ],
      "text/markdown": [
       "\n",
       "| FALSE | FALSE | FALSE |\n",
       "| FALSE | FALSE | FALSE |\n",
       "\n"
      ],
      "text/plain": [
       "     [,1]  [,2]  [,3] \n",
       "[1,] FALSE FALSE FALSE\n",
       "[2,] FALSE FALSE FALSE"
      ]
     },
     "metadata": {},
     "output_type": "display_data"
    },
    {
     "data": {
      "text/html": [
       "<table>\n",
       "<tbody>\n",
       "\t<tr><td>TRUE</td><td>TRUE</td><td>TRUE</td></tr>\n",
       "\t<tr><td>TRUE</td><td>TRUE</td><td>TRUE</td></tr>\n",
       "</tbody>\n",
       "</table>\n"
      ],
      "text/latex": [
       "\\begin{tabular}{lll}\n",
       "\t TRUE & TRUE & TRUE\\\\\n",
       "\t TRUE & TRUE & TRUE\\\\\n",
       "\\end{tabular}\n"
      ],
      "text/markdown": [
       "\n",
       "| TRUE | TRUE | TRUE |\n",
       "| TRUE | TRUE | TRUE |\n",
       "\n"
      ],
      "text/plain": [
       "     [,1] [,2] [,3]\n",
       "[1,] TRUE TRUE TRUE\n",
       "[2,] TRUE TRUE TRUE"
      ]
     },
     "metadata": {},
     "output_type": "display_data"
    },
    {
     "data": {
      "text/html": [
       "<table>\n",
       "<tbody>\n",
       "\t<tr><td>FALSE</td><td>FALSE</td><td>FALSE</td></tr>\n",
       "\t<tr><td>FALSE</td><td>FALSE</td><td>FALSE</td></tr>\n",
       "</tbody>\n",
       "</table>\n"
      ],
      "text/latex": [
       "\\begin{tabular}{lll}\n",
       "\t FALSE & FALSE & FALSE\\\\\n",
       "\t FALSE & FALSE & FALSE\\\\\n",
       "\\end{tabular}\n"
      ],
      "text/markdown": [
       "\n",
       "| FALSE | FALSE | FALSE |\n",
       "| FALSE | FALSE | FALSE |\n",
       "\n"
      ],
      "text/plain": [
       "     [,1]  [,2]  [,3] \n",
       "[1,] FALSE FALSE FALSE\n",
       "[2,] FALSE FALSE FALSE"
      ]
     },
     "metadata": {},
     "output_type": "display_data"
    },
    {
     "data": {
      "text/html": [
       "<table>\n",
       "<tbody>\n",
       "\t<tr><td>TRUE</td><td>TRUE</td><td>TRUE</td></tr>\n",
       "\t<tr><td>TRUE</td><td>TRUE</td><td>TRUE</td></tr>\n",
       "</tbody>\n",
       "</table>\n"
      ],
      "text/latex": [
       "\\begin{tabular}{lll}\n",
       "\t TRUE & TRUE & TRUE\\\\\n",
       "\t TRUE & TRUE & TRUE\\\\\n",
       "\\end{tabular}\n"
      ],
      "text/markdown": [
       "\n",
       "| TRUE | TRUE | TRUE |\n",
       "| TRUE | TRUE | TRUE |\n",
       "\n"
      ],
      "text/plain": [
       "     [,1] [,2] [,3]\n",
       "[1,] TRUE TRUE TRUE\n",
       "[2,] TRUE TRUE TRUE"
      ]
     },
     "metadata": {},
     "output_type": "display_data"
    },
    {
     "data": {
      "text/html": [
       "<table>\n",
       "<tbody>\n",
       "\t<tr><td>FALSE</td><td>FALSE</td><td>FALSE</td></tr>\n",
       "\t<tr><td>FALSE</td><td>FALSE</td><td>FALSE</td></tr>\n",
       "</tbody>\n",
       "</table>\n"
      ],
      "text/latex": [
       "\\begin{tabular}{lll}\n",
       "\t FALSE & FALSE & FALSE\\\\\n",
       "\t FALSE & FALSE & FALSE\\\\\n",
       "\\end{tabular}\n"
      ],
      "text/markdown": [
       "\n",
       "| FALSE | FALSE | FALSE |\n",
       "| FALSE | FALSE | FALSE |\n",
       "\n"
      ],
      "text/plain": [
       "     [,1]  [,2]  [,3] \n",
       "[1,] FALSE FALSE FALSE\n",
       "[2,] FALSE FALSE FALSE"
      ]
     },
     "metadata": {},
     "output_type": "display_data"
    }
   ],
   "source": [
    "#------------- VECTORES -----------\n",
    "\n",
    "\n",
    "x <- c(12, 4 , 14)\n",
    "y <- c(3, 4, 15)\n",
    "\n",
    "x >= y # TRUE TRUE FALSE\n",
    "x <= y # FALSE TRUE TRUE\n",
    "x == y # FALSE TRUE FALSE\n",
    "x != y # TRUE FALSE  TRUE\n",
    "\n",
    "#---------\n",
    "# Matrices\n",
    "#---------\n",
    "\n",
    "# Ten en cuenta que la matriz debe tener la misma dimensión\n",
    "# La comparación es elemento por elemento\n",
    "\n",
    "s <- matrix(1:6, nrow = 2, ncol = 3)\n",
    "t <- matrix(8:13, nrow = 2, ncol = 3)\n",
    "\n",
    "\n",
    "s > t\n",
    "\n",
    "#        [, 1]  [, 2]  [, 3]\n",
    "# [1, ]  FALSE  FALSE  FALSE\n",
    "# [2, ]  FALSE  FALSE  FALSE\n",
    "\n",
    "s < t\n",
    "s >= t\n",
    "s <= t\n",
    "s == t\n"
   ]
  },
  {
   "cell_type": "markdown",
   "id": "725393ea",
   "metadata": {},
   "source": [
    "Los operadores lógicos y los relacionales se utilizan por ejemplo para crear condicionales con la función **if**. Considera el simple ejemplo en el que quieres imprimir en pantalla el mensaje **Correcto** si dos valores (x e y) suman más de 20 o **Incorrecto** en caso contrario."
   ]
  },
  {
   "cell_type": "code",
   "execution_count": 7,
   "id": "b5fb478a",
   "metadata": {},
   "outputs": [
    {
     "name": "stdout",
     "output_type": "stream",
     "text": [
      "[1] \"Incorrecto\"\n"
     ]
    }
   ],
   "source": [
    "x <- 10\n",
    "y <- 9\n",
    "\n",
    "if(x + y > 20) {\n",
    "    print(\"Correcto\")\n",
    "} else {\n",
    "    print(\"Incorrecto\")\n",
    "}"
   ]
  },
  {
   "attachments": {
    "image.png": {
     "image/png": "[encoded data removed]"
    }
   },
   "cell_type": "markdown",
   "id": "c7f8fb62",
   "metadata": {},
   "source": [
    "Ya que x + y > 20 devuelve un **FALSE**, el resultado es el código que se ejecuta en el **else**.\n",
    "\n",
    "# Operadores de Asignación\n",
    "\n",
    "Los operadores de asignación en R permiten asignar datos a un objeto para almacenar los datos.\n",
    "\n",
    "![image.png](attachment:image.png)\n",
    "\n",
    "La flecha de asignación se puede usar como asignación izquierda o derecha, pero la asignación derecha no se usa generalmente. También puedes usar la asignación de doble flecha, conocida como asignación de alcance lexicográfico, pero no entraremos en más detalle, ya que es para usuarios avanzados. \n",
    "\n",
    "En el siguiente bloque de código encontrarás algunos ejemplos de estos operadores"
   ]
  },
  {
   "cell_type": "code",
   "execution_count": 8,
   "id": "bb8c12a2",
   "metadata": {},
   "outputs": [
    {
     "data": {
      "text/html": [
       "<ol class=list-inline>\n",
       "\t<li>1.55297758487356</li>\n",
       "\t<li>1.18288948916996</li>\n",
       "\t<li>-0.584269657579789</li>\n",
       "\t<li>0.583952133275232</li>\n",
       "\t<li>0.396522414135282</li>\n",
       "\t<li>-0.179030733772241</li>\n",
       "\t<li>-1.13526278745498</li>\n",
       "\t<li>-2.79532477022574</li>\n",
       "\t<li>-1.92681613054508</li>\n",
       "\t<li>1.16081944411222</li>\n",
       "</ol>\n"
      ],
      "text/latex": [
       "\\begin{enumerate*}\n",
       "\\item 1.55297758487356\n",
       "\\item 1.18288948916996\n",
       "\\item -0.584269657579789\n",
       "\\item 0.583952133275232\n",
       "\\item 0.396522414135282\n",
       "\\item -0.179030733772241\n",
       "\\item -1.13526278745498\n",
       "\\item -2.79532477022574\n",
       "\\item -1.92681613054508\n",
       "\\item 1.16081944411222\n",
       "\\end{enumerate*}\n"
      ],
      "text/markdown": [
       "1. 1.55297758487356\n",
       "2. 1.18288948916996\n",
       "3. -0.584269657579789\n",
       "4. 0.583952133275232\n",
       "5. 0.396522414135282\n",
       "6. -0.179030733772241\n",
       "7. -1.13526278745498\n",
       "8. -2.79532477022574\n",
       "9. -1.92681613054508\n",
       "10. 1.16081944411222\n",
       "\n",
       "\n"
      ],
      "text/plain": [
       " [1]  1.5529776  1.1828895 -0.5842697  0.5839521  0.3965224 -0.1790307\n",
       " [7] -1.1352628 -2.7953248 -1.9268161  1.1608194"
      ]
     },
     "metadata": {},
     "output_type": "display_data"
    }
   ],
   "source": [
    "x <- 3\n",
    "x = 26\n",
    "rnorm(n = 10)\n",
    "\n",
    "3 -> y\n",
    "\n",
    "w <<- 7\n",
    "7 ->> z"
   ]
  },
  {
   "cell_type": "markdown",
   "id": "5261e80b",
   "metadata": {},
   "source": [
    "Debe tenerse en cuenta que hay algunas reglas a la hora de nombrar variables. Puedes usar letras, números, puntos y guiones bajos en el nombre de la variable, pero los guiones bajos no pueden ser el primer caracter del nombre de la variable.\n",
    "\n",
    "También hay palabras reservadas que no se pueden usar, como TRUE, FALSE, NULL, entre otras. Puedes ver la lista completa de palabras reservadas escribiendo help(Reserved) o ?Reserved en la consola de comandos.\n",
    "\n",
    "Sin embargo, si por alguna razón necesitas nombrar una variable con una palabra reservada o comenzar con un guión bajo, tendrás que usar acentos graves (backticks)."
   ]
  },
  {
   "cell_type": "code",
   "execution_count": 9,
   "id": "0d6347de",
   "metadata": {},
   "outputs": [
    {
     "ename": "ERROR",
     "evalue": "Error in parse(text = x, srcfile = src): <text>:1:1: unexpected input\n1: _\n    ^\n",
     "output_type": "error",
     "traceback": [
      "Error in parse(text = x, srcfile = src): <text>:1:1: unexpected input\n1: _\n    ^\nTraceback:\n"
     ]
    }
   ],
   "source": [
    "_variable <- 3    # Error\n",
    "`_variable` <- 3  # Funciona\n",
    "\n",
    "TRUE <- 3   # Error\n",
    "`TRUE` <- 3 # Funciona"
   ]
  },
  {
   "attachments": {
    "image.png": {
     "image/png": "[encoded data removed]"
    }
   },
   "cell_type": "markdown",
   "id": "2c16e872",
   "metadata": {},
   "source": [
    "  # Operadores Misceláneos\n",
    "  \n",
    "Los operadores misceláneos en R son operadores utilizados para propósitos específicos, como acceder a datos, funciones, crear secuencias o especificar la fórmula de un modelo. La siguiente tabla contiene todos los operadores misceláneos disponibles en R.\n",
    "\n",
    "![image.png](attachment:image.png)\n",
    "\n",
    "En el siguiente bloque de código mostramos varios ejemplos de estos operadores:"
   ]
  },
  {
   "cell_type": "code",
   "execution_count": 10,
   "id": "5ae7a570",
   "metadata": {},
   "outputs": [
    {
     "data": {
      "text/html": [
       "<ol class=list-inline>\n",
       "\t<li>7</li>\n",
       "\t<li>9</li>\n",
       "\t<li>2</li>\n",
       "</ol>\n"
      ],
      "text/latex": [
       "\\begin{enumerate*}\n",
       "\\item 7\n",
       "\\item 9\n",
       "\\item 2\n",
       "\\end{enumerate*}\n"
      ],
      "text/markdown": [
       "1. 7\n",
       "2. 9\n",
       "3. 2\n",
       "\n",
       "\n"
      ],
      "text/plain": [
       "[1] 7 9 2"
      ]
     },
     "metadata": {},
     "output_type": "display_data"
    },
    {
     "data": {
      "text/html": [
       "<ol class=list-inline>\n",
       "\t<li>1</li>\n",
       "\t<li>2</li>\n",
       "\t<li>3</li>\n",
       "\t<li>4</li>\n",
       "\t<li>5</li>\n",
       "</ol>\n"
      ],
      "text/latex": [
       "\\begin{enumerate*}\n",
       "\\item 1\n",
       "\\item 2\n",
       "\\item 3\n",
       "\\item 4\n",
       "\\item 5\n",
       "\\end{enumerate*}\n"
      ],
      "text/markdown": [
       "1. 1\n",
       "2. 2\n",
       "3. 3\n",
       "4. 4\n",
       "5. 5\n",
       "\n",
       "\n"
      ],
      "text/plain": [
       "[1] 1 2 3 4 5"
      ]
     },
     "metadata": {},
     "output_type": "display_data"
    },
    {
     "data": {
      "text/html": [
       "<ol class=list-inline>\n",
       "\t<li>2.33555500107593</li>\n",
       "\t<li>-0.463831516242622</li>\n",
       "\t<li>-1.11802032896222</li>\n",
       "\t<li>0.728408500550687</li>\n",
       "\t<li>0.837049323093354</li>\n",
       "\t<li>0.546992112263552</li>\n",
       "\t<li>-0.704477210084403</li>\n",
       "\t<li>-0.454608703941646</li>\n",
       "\t<li>-1.35961881299047</li>\n",
       "\t<li>0.302041082824891</li>\n",
       "</ol>\n"
      ],
      "text/latex": [
       "\\begin{enumerate*}\n",
       "\\item 2.33555500107593\n",
       "\\item -0.463831516242622\n",
       "\\item -1.11802032896222\n",
       "\\item 0.728408500550687\n",
       "\\item 0.837049323093354\n",
       "\\item 0.546992112263552\n",
       "\\item -0.704477210084403\n",
       "\\item -0.454608703941646\n",
       "\\item -1.35961881299047\n",
       "\\item 0.302041082824891\n",
       "\\end{enumerate*}\n"
      ],
      "text/markdown": [
       "1. 2.33555500107593\n",
       "2. -0.463831516242622\n",
       "3. -1.11802032896222\n",
       "4. 0.728408500550687\n",
       "5. 0.837049323093354\n",
       "6. 0.546992112263552\n",
       "7. -0.704477210084403\n",
       "8. -0.454608703941646\n",
       "9. -1.35961881299047\n",
       "10. 0.302041082824891\n",
       "\n",
       "\n"
      ],
      "text/plain": [
       " [1]  2.3355550 -0.4638315 -1.1180203  0.7284085  0.8370493  0.5469921\n",
       " [7] -0.7044772 -0.4546087 -1.3596188  0.3020411"
      ]
     },
     "metadata": {},
     "output_type": "display_data"
    },
    {
     "data": {
      "text/plain": [
       "\n",
       "Call:\n",
       "lm(formula = df$x ~ df$y)\n",
       "\n",
       "Coefficients:\n",
       "(Intercept)         df$y  \n",
       "     -1.125        1.125  \n"
      ]
     },
     "metadata": {},
     "output_type": "display_data"
    }
   ],
   "source": [
    "df <- data.frame(x = c(7, 9, 2), y = c(5, 9, 5))\n",
    "# Accedemos a la variable x\n",
    "df$x\n",
    "\n",
    "# Secuencia de 1 a 5\n",
    "1:5\n",
    "\n",
    "# Función rnorm del paquete stats\n",
    "stats::rnorm(10)\n",
    "\n",
    "# Fórmula modelo lineal\n",
    "lm(df$x ~ df$y)"
   ]
  },
  {
   "cell_type": "markdown",
   "id": "3b9d0f94",
   "metadata": {},
   "source": [
    "# Operador pipe \n",
    "\n",
    "El operador pipe o tubería es un operador que puedes encontrar en varias bibliotecas, como el paquete **dplyr**. El operador se puede leer como “Y LUEGO” y su propósito es simplificar la sintaxis al escribir código R. Como ejemplo, puedes crear un subconjunto de los datos **cars** y luego crear un resumen del subconjunto con el siguiente código:"
   ]
  },
  {
   "cell_type": "code",
   "execution_count": 11,
   "id": "3d5368b7",
   "metadata": {},
   "outputs": [
    {
     "name": "stderr",
     "output_type": "stream",
     "text": [
      "\n",
      "Attaching package: 'dplyr'\n",
      "\n",
      "The following objects are masked from 'package:stats':\n",
      "\n",
      "    filter, lag\n",
      "\n",
      "The following objects are masked from 'package:base':\n",
      "\n",
      "    intersect, setdiff, setequal, union\n",
      "\n"
     ]
    },
    {
     "data": {
      "text/plain": [
       "     speed            dist       \n",
       " Min.   :22.00   Min.   : 54.00  \n",
       " 1st Qu.:23.50   1st Qu.: 68.00  \n",
       " Median :24.00   Median : 85.00  \n",
       " Mean   :23.71   Mean   : 82.86  \n",
       " 3rd Qu.:24.00   3rd Qu.: 92.50  \n",
       " Max.   :25.00   Max.   :120.00  "
      ]
     },
     "metadata": {},
     "output_type": "display_data"
    }
   ],
   "source": [
    "# install.packages(\"dplyr\")\n",
    "library(dplyr)\n",
    "\n",
    "cars %>% \n",
    "   subset(speed > 20) %>% \n",
    "   summary()"
   ]
  },
  {
   "cell_type": "markdown",
   "id": "75efb588",
   "metadata": {},
   "source": [
    "# TIPOS DE DATOS\n",
    "\n",
    "Todo en el lenguaje de programación R es un objeto. Cuando hablamos de tipos de datos en R, nos referimos a los objetos de datos más simples que podemos manejar, que también se conocen como tipos de datos atómicos.\n",
    "\n",
    "## Datos atómicos R\n",
    "\n",
    "Los tipos de datos atómicos son los tipos de objetos con los que puedes crear vectores (atómicos). Los tipos de datos más comunes en R son los que se enumeran en la siguiente lista:\n",
    "\n",
    "‣ Númerico: enteros y double (real).\n",
    "‣ Carácter.\n",
    "‣ Lógico.\n",
    "‣ Complejo.\n",
    "‣ Raw.\n",
    "\n",
    "Puedes verificar si algún objeto de datos es atómico con la función *is.atomic*. Ten en cuenta que esta función verifica el tipo de datos de vectores atómicos.\n"
   ]
  },
  {
   "cell_type": "code",
   "execution_count": 30,
   "id": "1a5a7a45",
   "metadata": {},
   "outputs": [
    {
     "data": {
      "text/html": [
       "TRUE"
      ],
      "text/latex": [
       "TRUE"
      ],
      "text/markdown": [
       "TRUE"
      ],
      "text/plain": [
       "[1] TRUE"
      ]
     },
     "metadata": {},
     "output_type": "display_data"
    },
    {
     "data": {
      "text/html": [
       "TRUE"
      ],
      "text/latex": [
       "TRUE"
      ],
      "text/markdown": [
       "TRUE"
      ],
      "text/plain": [
       "[1] TRUE"
      ]
     },
     "metadata": {},
     "output_type": "display_data"
    }
   ],
   "source": [
    "is.atomic(3) # TRUE\n",
    "is.atomic(\"R CODER\") # TRUE"
   ]
  },
  {
   "cell_type": "markdown",
   "id": "f24899b8",
   "metadata": {},
   "source": [
    "En las siguientes secciones mostraremos cómo verificar el tipo de datos de un objeto en R y explicaciones sobre cada tipo de datos.\n",
    "\n",
    "\n",
    "## Comprobación Tipo de Dato\n",
    "\n",
    "Hay varias funciones que pueden imprimir el tipo de dato de un objeto de R. Estas incluyen: *typeof, mode, storage.mode, class y str.*\n"
   ]
  },
  {
   "cell_type": "code",
   "execution_count": 29,
   "id": "3ae63aa2",
   "metadata": {},
   "outputs": [
    {
     "data": {
      "text/html": [
       "'double'"
      ],
      "text/latex": [
       "'double'"
      ],
      "text/markdown": [
       "'double'"
      ],
      "text/plain": [
       "[1] \"double\""
      ]
     },
     "metadata": {},
     "output_type": "display_data"
    },
    {
     "data": {
      "text/html": [
       "'numeric'"
      ],
      "text/latex": [
       "'numeric'"
      ],
      "text/markdown": [
       "'numeric'"
      ],
      "text/plain": [
       "[1] \"numeric\""
      ]
     },
     "metadata": {},
     "output_type": "display_data"
    },
    {
     "data": {
      "text/html": [
       "'double'"
      ],
      "text/latex": [
       "'double'"
      ],
      "text/markdown": [
       "'double'"
      ],
      "text/plain": [
       "[1] \"double\""
      ]
     },
     "metadata": {},
     "output_type": "display_data"
    },
    {
     "data": {
      "text/html": [
       "'numeric'"
      ],
      "text/latex": [
       "'numeric'"
      ],
      "text/markdown": [
       "'numeric'"
      ],
      "text/plain": [
       "[1] \"numeric\""
      ]
     },
     "metadata": {},
     "output_type": "display_data"
    },
    {
     "name": "stdout",
     "output_type": "stream",
     "text": [
      " num 5\n"
     ]
    }
   ],
   "source": [
    "# Tipo interno o modo de almacenamiento de cualquier objeto\n",
    "typeof(1) # \"double\"\n",
    "\n",
    "# Clase del objeto\n",
    "class(2)  # \"numeric\"\n",
    "\n",
    "# Establece u obtiene el modo de almacenamiento o el tipo de un objeto\n",
    "# Esta clasificación está relacionada con el lenguaje S\n",
    "storage.mode(3) # \"double\"\n",
    "mode(4) # \"numeric\"\n",
    "\n",
    "# Estructura del objeto\n",
    "str(5)  # num 5"
   ]
  },
  {
   "cell_type": "markdown",
   "id": "9c1bc567",
   "metadata": {},
   "source": [
    "Sin embargo, el uso principal de algunas de ellas no es simplemente verificar el tipo de datos de un objeto de R. Como ejemplo, la clase de un objeto puede ser diferente del tipo de dato (lo que resulta muy útil al crear clases S3) y la función *str* está diseñada para mostrar la estructura completa de un objeto R. Si quieres mostrar el tipo de dato de R, recomendamos utilizar la función *typeof*"
   ]
  },
  {
   "cell_type": "code",
   "execution_count": 28,
   "id": "e86a162d",
   "metadata": {},
   "outputs": [
    {
     "data": {
      "text/html": [
       "'numeric'"
      ],
      "text/latex": [
       "'numeric'"
      ],
      "text/markdown": [
       "'numeric'"
      ],
      "text/plain": [
       "[1] \"numeric\""
      ]
     },
     "metadata": {},
     "output_type": "display_data"
    },
    {
     "data": {
      "text/html": [
       "'Mi_clase'"
      ],
      "text/latex": [
       "'Mi\\_clase'"
      ],
      "text/markdown": [
       "'Mi_clase'"
      ],
      "text/plain": [
       "[1] \"Mi_clase\""
      ]
     },
     "metadata": {},
     "output_type": "display_data"
    },
    {
     "data": {
      "text/html": [
       "'double'"
      ],
      "text/latex": [
       "'double'"
      ],
      "text/markdown": [
       "'double'"
      ],
      "text/plain": [
       "[1] \"double\""
      ]
     },
     "metadata": {},
     "output_type": "display_data"
    }
   ],
   "source": [
    "x <- 1\n",
    "class(x) # \"numeric\"\n",
    "class(x) <- \"Mi_clase\"\n",
    "class(x) # \"Mi_clase\"\n",
    "typeof(x) # \"double\""
   ]
  },
  {
   "attachments": {
    "image.png": {
     "image/png": "[encoded data removed]"
    }
   },
   "cell_type": "markdown",
   "id": "e405d8a0",
   "metadata": {},
   "source": [
    "La siguiente tabla resume las diferentes posibles salidas al aplicar las funciones *typeof, storage.mode y mode.*\n",
    "\n",
    "![image.png](attachment:image.png)\n",
    "\n",
    "Hay otras funciones que permiten verificar si algún objeto pertenece a algún tipo de datos, devolviendo *TRUE* o *FALSE*. Estas funciones comienzan con *is*. Seguido por el tipo de dato. Las revisaremos en las siguientes secciones.\n",
    "\n",
    "## Tipos de Datos Númericos\n",
    "\n",
    "El tipo de dato numérico en R está compuesto por tipos de datos double (reales) y enteros. Puedes comprobar si un objeto es numérico con la función *mode* o si la función *is.numeric* devuelve *TRUE.*"
   ]
  },
  {
   "cell_type": "code",
   "execution_count": 27,
   "id": "02f4cf77",
   "metadata": {},
   "outputs": [
    {
     "data": {
      "text/html": [
       "'numeric'"
      ],
      "text/latex": [
       "'numeric'"
      ],
      "text/markdown": [
       "'numeric'"
      ],
      "text/plain": [
       "[1] \"numeric\""
      ]
     },
     "metadata": {},
     "output_type": "display_data"
    },
    {
     "data": {
      "text/html": [
       "TRUE"
      ],
      "text/latex": [
       "TRUE"
      ],
      "text/markdown": [
       "TRUE"
      ],
      "text/plain": [
       "[1] TRUE"
      ]
     },
     "metadata": {},
     "output_type": "display_data"
    }
   ],
   "source": [
    "mode(55) # \"numeric\"\n",
    "is.numeric(3) # TRUE"
   ]
  },
  {
   "cell_type": "markdown",
   "id": "3467589a",
   "metadata": {},
   "source": [
    "### Dato Double o Real\n",
    "\n",
    "El tipo de datos double en R es la representación de un objeto numérico de doble precisión. Ten en cuenta que, de forma predeterminada, todos los números son dobles en R y que *Inf, -Inf, NaN,* la notación científica y la notación hexadecimal de números también son doubles."
   ]
  },
  {
   "cell_type": "code",
   "execution_count": 26,
   "id": "f26924c6",
   "metadata": {},
   "outputs": [
    {
     "data": {
      "text/html": [
       "'double'"
      ],
      "text/latex": [
       "'double'"
      ],
      "text/markdown": [
       "'double'"
      ],
      "text/plain": [
       "[1] \"double\""
      ]
     },
     "metadata": {},
     "output_type": "display_data"
    },
    {
     "data": {
      "text/html": [
       "'double'"
      ],
      "text/latex": [
       "'double'"
      ],
      "text/markdown": [
       "'double'"
      ],
      "text/plain": [
       "[1] \"double\""
      ]
     },
     "metadata": {},
     "output_type": "display_data"
    },
    {
     "data": {
      "text/html": [
       "'double'"
      ],
      "text/latex": [
       "'double'"
      ],
      "text/markdown": [
       "'double'"
      ],
      "text/plain": [
       "[1] \"double\""
      ]
     },
     "metadata": {},
     "output_type": "display_data"
    },
    {
     "data": {
      "text/html": [
       "'double'"
      ],
      "text/latex": [
       "'double'"
      ],
      "text/markdown": [
       "'double'"
      ],
      "text/plain": [
       "[1] \"double\""
      ]
     },
     "metadata": {},
     "output_type": "display_data"
    },
    {
     "data": {
      "text/html": [
       "'double'"
      ],
      "text/latex": [
       "'double'"
      ],
      "text/markdown": [
       "'double'"
      ],
      "text/plain": [
       "[1] \"double\""
      ]
     },
     "metadata": {},
     "output_type": "display_data"
    },
    {
     "data": {
      "text/html": [
       "'double'"
      ],
      "text/latex": [
       "'double'"
      ],
      "text/markdown": [
       "'double'"
      ],
      "text/plain": [
       "[1] \"double\""
      ]
     },
     "metadata": {},
     "output_type": "display_data"
    }
   ],
   "source": [
    "typeof(2)   # \"double\"\n",
    "\n",
    "# Infinito\n",
    "typeof(Inf) # \"double\"\n",
    "typeof(-Inf) # \"double\"\n",
    "\n",
    "# NaN (Not a Number)\n",
    "typeof(NaN)  # \"double\"\n",
    "\n",
    "# Notación científica\n",
    "typeof(3.12e3) # \"double\"\n",
    "\n",
    "# Hexadecimal\n",
    "typeof(0xbade) # \"double\""
   ]
  },
  {
   "cell_type": "markdown",
   "id": "2e420121",
   "metadata": {},
   "source": [
    "Si quieres verificar si un objeto es un double, puede usar la función *is.double.*"
   ]
  },
  {
   "cell_type": "code",
   "execution_count": 25,
   "id": "0344ecfe",
   "metadata": {},
   "outputs": [
    {
     "data": {
      "text/html": [
       "TRUE"
      ],
      "text/latex": [
       "TRUE"
      ],
      "text/markdown": [
       "TRUE"
      ],
      "text/plain": [
       "[1] TRUE"
      ]
     },
     "metadata": {},
     "output_type": "display_data"
    },
    {
     "data": {
      "text/html": [
       "TRUE"
      ],
      "text/latex": [
       "TRUE"
      ],
      "text/markdown": [
       "TRUE"
      ],
      "text/plain": [
       "[1] TRUE"
      ]
     },
     "metadata": {},
     "output_type": "display_data"
    }
   ],
   "source": [
    "is.double(2) # TRUE\n",
    "is.double(2.8) # TRUE"
   ]
  },
  {
   "cell_type": "markdown",
   "id": "9fa9c262",
   "metadata": {},
   "source": [
    "### Dato Entero\n",
    "\n",
    "El tipo de dato entero se puede crear agregando una *L* a un número. Este tipo de datos es útil si quieres pasar algún objeto de R a una función de C o FORTRAN que espera un valor entero, por lo que este tipo de datos generalmente no es necesario. Puedes verificar el tipo de datos con la función *is.integer*."
   ]
  },
  {
   "cell_type": "code",
   "execution_count": 24,
   "id": "9abd3a7d",
   "metadata": {},
   "outputs": [
    {
     "data": {
      "text/html": [
       "'integer'"
      ],
      "text/latex": [
       "'integer'"
      ],
      "text/markdown": [
       "'integer'"
      ],
      "text/plain": [
       "[1] \"integer\""
      ]
     },
     "metadata": {},
     "output_type": "display_data"
    },
    {
     "data": {
      "text/html": [
       "FALSE"
      ],
      "text/latex": [
       "FALSE"
      ],
      "text/markdown": [
       "FALSE"
      ],
      "text/plain": [
       "[1] FALSE"
      ]
     },
     "metadata": {},
     "output_type": "display_data"
    },
    {
     "data": {
      "text/html": [
       "TRUE"
      ],
      "text/latex": [
       "TRUE"
      ],
      "text/markdown": [
       "TRUE"
      ],
      "text/plain": [
       "[1] TRUE"
      ]
     },
     "metadata": {},
     "output_type": "display_data"
    }
   ],
   "source": [
    "y <- 2L\n",
    "typeof(y) # \"integer\"\n",
    "\n",
    "is.integer(3) # FALSE\n",
    "is.integer(3L) # TRUE"
   ]
  },
  {
   "cell_type": "markdown",
   "id": "8156e964",
   "metadata": {},
   "source": [
    "## Tipo de Dato Lógico\n",
    "\n",
    "El tipo de dato booleano o lógico está compuesto por los valores *TRUE, FALSE y NA.*"
   ]
  },
  {
   "cell_type": "code",
   "execution_count": 23,
   "id": "25029aa7",
   "metadata": {},
   "outputs": [
    {
     "data": {
      "text/html": [
       "'logical'"
      ],
      "text/latex": [
       "'logical'"
      ],
      "text/markdown": [
       "'logical'"
      ],
      "text/plain": [
       "[1] \"logical\""
      ]
     },
     "metadata": {},
     "output_type": "display_data"
    },
    {
     "data": {
      "text/html": [
       "'logical'"
      ],
      "text/latex": [
       "'logical'"
      ],
      "text/markdown": [
       "'logical'"
      ],
      "text/plain": [
       "[1] \"logical\""
      ]
     },
     "metadata": {},
     "output_type": "display_data"
    },
    {
     "data": {
      "text/html": [
       "'logical'"
      ],
      "text/latex": [
       "'logical'"
      ],
      "text/markdown": [
       "'logical'"
      ],
      "text/plain": [
       "[1] \"logical\""
      ]
     },
     "metadata": {},
     "output_type": "display_data"
    }
   ],
   "source": [
    "t <- TRUE\n",
    "f <- FALSE\n",
    "n <- NA\n",
    "\n",
    "typeof(t)  # \"logical\"\n",
    "typeof(f)  # \"logical\"\n",
    "typeof(NA) # \"logical\""
   ]
  },
  {
   "cell_type": "markdown",
   "id": "a15fbdc4",
   "metadata": {},
   "source": [
    "La función que imprime si un objeto es lógico o no es *is.logical.*"
   ]
  },
  {
   "cell_type": "code",
   "execution_count": 22,
   "id": "a6bbd3be",
   "metadata": {},
   "outputs": [
    {
     "data": {
      "text/html": [
       "TRUE"
      ],
      "text/latex": [
       "TRUE"
      ],
      "text/markdown": [
       "TRUE"
      ],
      "text/plain": [
       "[1] TRUE"
      ]
     },
     "metadata": {},
     "output_type": "display_data"
    },
    {
     "data": {
      "text/html": [
       "TRUE"
      ],
      "text/latex": [
       "TRUE"
      ],
      "text/markdown": [
       "TRUE"
      ],
      "text/plain": [
       "[1] TRUE"
      ]
     },
     "metadata": {},
     "output_type": "display_data"
    }
   ],
   "source": [
    "is.logical(T) # TRUE\n",
    "is.logical(TRUE) # TRUE"
   ]
  },
  {
   "cell_type": "markdown",
   "id": "fc70eaae",
   "metadata": {},
   "source": [
    "Nótese que puedes usar *T* y *F* en lugar de TRUE o FALSE. Sin embargo, esto no se recomienda porque podrías sobrescribir el valor de *T* o *F* pero no el de *TRUE* o *FALSE*, como se muestra en el siguiente bloque de código."
   ]
  },
  {
   "cell_type": "code",
   "execution_count": 21,
   "id": "1f0b8e7d",
   "metadata": {},
   "outputs": [
    {
     "data": {
      "text/html": [
       "FALSE"
      ],
      "text/latex": [
       "FALSE"
      ],
      "text/markdown": [
       "FALSE"
      ],
      "text/plain": [
       "[1] FALSE"
      ]
     },
     "metadata": {},
     "output_type": "display_data"
    },
    {
     "data": {
      "text/html": [
       "TRUE"
      ],
      "text/latex": [
       "TRUE"
      ],
      "text/markdown": [
       "TRUE"
      ],
      "text/plain": [
       "[1] TRUE"
      ]
     },
     "metadata": {},
     "output_type": "display_data"
    },
    {
     "ename": "ERROR",
     "evalue": "Error in FALSE <- a: lado izquierdo de la asignación inválida (do_set)\n",
     "output_type": "error",
     "traceback": [
      "Error in FALSE <- a: lado izquierdo de la asignación inválida (do_set)\nTraceback:\n"
     ]
    }
   ],
   "source": [
    "F # FALSE\n",
    "a <- T\n",
    "\n",
    "# Puedes nombrar una variable como T o F\n",
    "F <- a\n",
    "F # TRUE\n",
    "\n",
    "# No puedes nombrar una variable como TRUE o FALSE\n",
    "a <- TRUE\n",
    "FALSE <- a # Error"
   ]
  },
  {
   "cell_type": "markdown",
   "id": "695c78d6",
   "metadata": {},
   "source": [
    "## Tipo de Dato Complejo\n",
    "\n",
    "El tipo de dato complejo es un objeto que incluye un número imaginario (i). Como los números imaginarios generalmente no se usan en estadística, este tipo de datos no es muy común. La función para verificar el tipo de datos es *is.complex.*"
   ]
  },
  {
   "cell_type": "code",
   "execution_count": 20,
   "id": "4f3861e6",
   "metadata": {},
   "outputs": [
    {
     "data": {
      "text/html": [
       "1+3i"
      ],
      "text/latex": [
       "1+3i"
      ],
      "text/markdown": [
       "1+3i"
      ],
      "text/plain": [
       "[1] 1+3i"
      ]
     },
     "metadata": {},
     "output_type": "display_data"
    },
    {
     "data": {
      "text/html": [
       "'complex'"
      ],
      "text/latex": [
       "'complex'"
      ],
      "text/markdown": [
       "'complex'"
      ],
      "text/plain": [
       "[1] \"complex\""
      ]
     },
     "metadata": {},
     "output_type": "display_data"
    },
    {
     "data": {
      "text/html": [
       "TRUE"
      ],
      "text/latex": [
       "TRUE"
      ],
      "text/markdown": [
       "TRUE"
      ],
      "text/plain": [
       "[1] TRUE"
      ]
     },
     "metadata": {},
     "output_type": "display_data"
    }
   ],
   "source": [
    "1 + 3i \n",
    "typeof(1 + 3i) # \"complex\"\n",
    "is.complex(1 + 3i)"
   ]
  },
  {
   "cell_type": "markdown",
   "id": "5c33b40a",
   "metadata": {},
   "source": [
    "## Tipo de Dato Carácter \n",
    "\n",
    "Los caracteres o las cadenas de caracteres son símbolos, letras, palabras o frases dentro de comillas dobles o simples. Puedes verificar que algún objeto es de tipo carácter con la función *is.character.*"
   ]
  },
  {
   "cell_type": "code",
   "execution_count": 19,
   "id": "c5603e74",
   "metadata": {},
   "outputs": [
    {
     "data": {
      "text/html": [
       "'character'"
      ],
      "text/latex": [
       "'character'"
      ],
      "text/markdown": [
       "'character'"
      ],
      "text/plain": [
       "[1] \"character\""
      ]
     },
     "metadata": {},
     "output_type": "display_data"
    },
    {
     "data": {
      "text/html": [
       "TRUE"
      ],
      "text/latex": [
       "TRUE"
      ],
      "text/markdown": [
       "TRUE"
      ],
      "text/plain": [
       "[1] TRUE"
      ]
     },
     "metadata": {},
     "output_type": "display_data"
    }
   ],
   "source": [
    "character <- \"a\"\n",
    "typeof(character) # \"character\"\n",
    "is.character(character) # TRUE"
   ]
  },
  {
   "cell_type": "markdown",
   "id": "9639f1d6",
   "metadata": {},
   "source": [
    "Ten en cuenta que el uso de comillas simples o dobles es equivalente."
   ]
  },
  {
   "cell_type": "code",
   "execution_count": 18,
   "id": "510da925",
   "metadata": {},
   "outputs": [
    {
     "data": {
      "text/html": [
       "'character'"
      ],
      "text/latex": [
       "'character'"
      ],
      "text/markdown": [
       "'character'"
      ],
      "text/plain": [
       "[1] \"character\""
      ]
     },
     "metadata": {},
     "output_type": "display_data"
    },
    {
     "data": {
      "text/html": [
       "'character'"
      ],
      "text/latex": [
       "'character'"
      ],
      "text/markdown": [
       "'character'"
      ],
      "text/plain": [
       "[1] \"character\""
      ]
     },
     "metadata": {},
     "output_type": "display_data"
    }
   ],
   "source": [
    "typeof('R CODER')\n",
    "typeof(\"R CODER\")"
   ]
  },
  {
   "cell_type": "markdown",
   "id": "37b1f463",
   "metadata": {},
   "source": [
    "Cabe mencionar que la función *nchar* cuenta el número de caracteres dentro de una cadena, incluso los espacios vacíos."
   ]
  },
  {
   "cell_type": "code",
   "execution_count": 17,
   "id": "2c132a12",
   "metadata": {},
   "outputs": [
    {
     "data": {
      "text/html": [
       "8"
      ],
      "text/latex": [
       "8"
      ],
      "text/markdown": [
       "8"
      ],
      "text/plain": [
       "[1] 8"
      ]
     },
     "metadata": {},
     "output_type": "display_data"
    }
   ],
   "source": [
    "nchar(\"A string\") # 8"
   ]
  },
  {
   "cell_type": "markdown",
   "id": "21e110df",
   "metadata": {},
   "source": [
    "## Tipo de Dato Raw\n",
    "\n",
    "El tipo de dato raw (crudo, sin procesar) contiene bytes sin procesar, por lo que es un tipo de datos muy poco común. Puedes transformar un objeto de tipo carácter o un valor numérico entero en un objeto raw con las funciones **charToRaw** e **intToBits**, respectivamente."
   ]
  },
  {
   "cell_type": "code",
   "execution_count": 16,
   "id": "2a0156fb",
   "metadata": {},
   "outputs": [
    {
     "data": {
      "text/plain": [
       "[1] 52 20 43 4f 44 45 52"
      ]
     },
     "metadata": {},
     "output_type": "display_data"
    },
    {
     "data": {
      "text/html": [
       "'raw'"
      ],
      "text/latex": [
       "'raw'"
      ],
      "text/markdown": [
       "'raw'"
      ],
      "text/plain": [
       "[1] \"raw\""
      ]
     },
     "metadata": {},
     "output_type": "display_data"
    },
    {
     "data": {
      "text/html": [
       "'raw'"
      ],
      "text/latex": [
       "'raw'"
      ],
      "text/markdown": [
       "'raw'"
      ],
      "text/plain": [
       "[1] \"raw\""
      ]
     },
     "metadata": {},
     "output_type": "display_data"
    }
   ],
   "source": [
    "a <- charToRaw(\"R CODER\")\n",
    "a # 52 20 43 4f 44 45 52\n",
    "typeof(a) # \"raw\"\n",
    "\n",
    "b <- intToBits(3L)\n",
    "typeof(b) # \"raw\""
   ]
  },
  {
   "cell_type": "markdown",
   "id": "541fd095",
   "metadata": {},
   "source": [
    "Al igual que con los otros tipos de datos, la función para verificar el tipo de datos en este caso es la función *is.raw*"
   ]
  },
  {
   "cell_type": "code",
   "execution_count": 15,
   "id": "a9274ebf",
   "metadata": {},
   "outputs": [
    {
     "data": {
      "text/html": [
       "FALSE"
      ],
      "text/latex": [
       "FALSE"
      ],
      "text/markdown": [
       "FALSE"
      ],
      "text/plain": [
       "[1] FALSE"
      ]
     },
     "metadata": {},
     "output_type": "display_data"
    }
   ],
   "source": [
    "is.raw(b) # TRUE"
   ]
  },
  {
   "attachments": {
    "image.png": {
     "image/png": "[encoded data removed]"
    }
   },
   "cell_type": "markdown",
   "id": "9f29f1a1",
   "metadata": {},
   "source": [
    "## Coerción de Tipos de Datos\n",
    "\n",
    "Los tipos de datos en R se pueden coercionar con las funciones que comienzan con **as.**, resumidas en la siguiente tabla:\n",
    "\n",
    "![image.png](attachment:image.png)\n",
    "\n",
    "Considera que quieres coercionar un double a un entero. Podrías hacer lo siguiente:"
   ]
  },
  {
   "cell_type": "code",
   "execution_count": 12,
   "id": "965bcf9f",
   "metadata": {},
   "outputs": [
    {
     "data": {
      "text/html": [
       "'double'"
      ],
      "text/latex": [
       "'double'"
      ],
      "text/markdown": [
       "'double'"
      ],
      "text/plain": [
       "[1] \"double\""
      ]
     },
     "metadata": {},
     "output_type": "display_data"
    },
    {
     "data": {
      "text/html": [
       "'integer'"
      ],
      "text/latex": [
       "'integer'"
      ],
      "text/markdown": [
       "'integer'"
      ],
      "text/plain": [
       "[1] \"integer\""
      ]
     },
     "metadata": {},
     "output_type": "display_data"
    }
   ],
   "source": [
    "a <- 3\n",
    "typeof(a) # \"double\"\n",
    "a <- as.integer(a)\n",
    "typeof(a) # \"integer\""
   ]
  },
  {
   "cell_type": "markdown",
   "id": "3626417f",
   "metadata": {},
   "source": [
    "También podrías coercionar un valor lógico a numérico (0 y 1) o una cadena de caracteres:"
   ]
  },
  {
   "cell_type": "code",
   "execution_count": 13,
   "id": "d58096a5",
   "metadata": {},
   "outputs": [
    {
     "data": {
      "text/html": [
       "1"
      ],
      "text/latex": [
       "1"
      ],
      "text/markdown": [
       "1"
      ],
      "text/plain": [
       "[1] 1"
      ]
     },
     "metadata": {},
     "output_type": "display_data"
    },
    {
     "data": {
      "text/html": [
       "0"
      ],
      "text/latex": [
       "0"
      ],
      "text/markdown": [
       "0"
      ],
      "text/plain": [
       "[1] 0"
      ]
     },
     "metadata": {},
     "output_type": "display_data"
    },
    {
     "data": {
      "text/html": [
       "'TRUE'"
      ],
      "text/latex": [
       "'TRUE'"
      ],
      "text/markdown": [
       "'TRUE'"
      ],
      "text/plain": [
       "[1] \"TRUE\""
      ]
     },
     "metadata": {},
     "output_type": "display_data"
    }
   ],
   "source": [
    "b <- TRUE\n",
    "b <- as.numeric(b)\n",
    "b # 1\n",
    "\n",
    "c <- FALSE\n",
    "c <- as.numeric(c)\n",
    "c # 0\n",
    "\n",
    "d <- TRUE\n",
    "d <- as.character(d)\n",
    "d # \"TRUE\""
   ]
  },
  {
   "cell_type": "markdown",
   "id": "b9abe9fb",
   "metadata": {},
   "source": [
    "Sin embargo, si intentas coercionar dos tipos de datos no compatibles (como una cadena de caracteres a un tipo numérico), se producirá un error:"
   ]
  },
  {
   "cell_type": "code",
   "execution_count": 14,
   "id": "bb7194ac",
   "metadata": {},
   "outputs": [
    {
     "name": "stderr",
     "output_type": "stream",
     "text": [
      "Warning message in eval(expr, envir, enclos):\n",
      "\"NAs introducidos por coerción\""
     ]
    },
    {
     "data": {
      "text/html": [
       "&lt;NA&gt;"
      ],
      "text/latex": [
       "<NA>"
      ],
      "text/markdown": [
       "&lt;NA&gt;"
      ],
      "text/plain": [
       "[1] NA"
      ]
     },
     "metadata": {},
     "output_type": "display_data"
    }
   ],
   "source": [
    "as.double(\"R CODER\") #NA NAS introducidos por coerción"
   ]
  },
  {
   "cell_type": "code",
   "execution_count": null,
   "id": "23c0ac0c",
   "metadata": {},
   "outputs": [],
   "source": []
  }
 ],
 "metadata": {
  "kernelspec": {
   "display_name": "R",
   "language": "R",
   "name": "ir"
  },
  "language_info": {
   "codemirror_mode": "r",
   "file_extension": ".r",
   "mimetype": "text/x-r-source",
   "name": "R",
   "pygments_lexer": "r",
   "version": "3.6.1"
  }
 },
 "nbformat": 4,
 "nbformat_minor": 5
}
